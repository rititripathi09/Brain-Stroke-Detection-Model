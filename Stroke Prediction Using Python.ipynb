{
 "cells": [
  {
   "cell_type": "code",
   "execution_count": null,
   "id": "7df03ab3-92e4-4b5c-a3b1-100e25c97b1f",
   "metadata": {},
   "outputs": [],
   "source": [
    "import pandas as pd\n",
    "import numpy as np"
   ]
  },
  {
   "cell_type": "code",
   "execution_count": null,
   "id": "7fd2b8d8-d67e-44ff-b837-3e756e5f53cc",
   "metadata": {},
   "outputs": [],
   "source": [
    "train_df = pd.read_csv(\"train.csv\")\n",
    "test_df = pd.read_csv(\"test.csv\")\n",
    "sub_df = pd.read_csv(\"sample_submission.csv\")"
   ]
  },
  {
   "cell_type": "code",
   "execution_count": null,
   "id": "68145994-81bc-4e86-9b34-a924b21b38b2",
   "metadata": {},
   "outputs": [],
   "source": [
    "train_df.head()"
   ]
  },
  {
   "cell_type": "code",
   "execution_count": null,
   "id": "e2ba90c9-5530-4276-ab14-687a87df2f8f",
   "metadata": {},
   "outputs": [],
   "source": [
    "train_df['stroke'].unique()"
   ]
  },
  {
   "cell_type": "code",
   "execution_count": null,
   "id": "18599fce-cb00-4326-8ba5-e337927dd5ab",
   "metadata": {},
   "outputs": [],
   "source": [
    "train_df.info()"
   ]
  },
  {
   "cell_type": "code",
   "execution_count": null,
   "id": "cfd340d8-212f-4600-a0be-e1675b029350",
   "metadata": {},
   "outputs": [],
   "source": [
    "train_df.describe().T"
   ]
  },
  {
   "cell_type": "code",
   "execution_count": null,
   "id": "9f8cdc98-782d-42b7-b286-ea94dbd6f453",
   "metadata": {},
   "outputs": [],
   "source": [
    "\n",
    "train_df.duplicated().sum()"
   ]
  },
  {
   "cell_type": "code",
   "execution_count": null,
   "id": "57488899-e46e-4438-9d90-5fa379e1f4dc",
   "metadata": {},
   "outputs": [],
   "source": [
    "# Data Cleaning\n",
    "\n",
    "sorted(train_df['age'].unique().tolist())[0:12]"
   ]
  },
  {
   "cell_type": "code",
   "execution_count": null,
   "id": "8ad86b7b-fac4-4a72-bfa8-993f38290593",
   "metadata": {},
   "outputs": [],
   "source": [
    "train_df['age'] = np.ceil(train_df['age'])\n",
    "test_df['age'] = np.ceil(test_df['age'])"
   ]
  },
  {
   "cell_type": "code",
   "execution_count": null,
   "id": "19892145-ed00-4103-b82d-6e5717d3b5b9",
   "metadata": {},
   "outputs": [],
   "source": [
    "train_df['gender'].value_counts()"
   ]
  },
  {
   "cell_type": "code",
   "execution_count": null,
   "id": "82ff6dc3-9ac1-4b17-ac2b-ddce66ce8add",
   "metadata": {},
   "outputs": [],
   "source": [
    "train_df.drop(train_df[train_df['gender']=='Other'].index, inplace=True)\n",
    "test_df.drop(test_df[test_df['gender']=='Other'].index, inplace=True)"
   ]
  },
  {
   "cell_type": "code",
   "execution_count": null,
   "id": "1ae67e78-a42f-42f1-910b-288a716e84f4",
   "metadata": {},
   "outputs": [],
   "source": [
    "# Exploratory Data Analysis(EDA)\n",
    "import matplotlib.pyplot as plt\n",
    "import seaborn as sns\n",
    "import plotly.express as px\n",
    "import plotly.graph_objects as go\n",
    "import plotly.subplots as sp\n",
    "\n",
    "sns.set_style(\"darkgrid\")"
   ]
  },
  {
   "cell_type": "code",
   "execution_count": null,
   "id": "cb95eab4-17c8-4be0-b8c5-90b717663037",
   "metadata": {},
   "outputs": [],
   "source": [
    "plot_color = ['#008080', 'black']\n",
    "sns.set_palette(['#008080', 'black'])"
   ]
  },
  {
   "cell_type": "code",
   "execution_count": null,
   "id": "2a47c628-96ae-4b7f-b3d8-4a2d34384738",
   "metadata": {},
   "outputs": [],
   "source": [
    "# Filter data for stroke & Non Stroke\n",
    "no_stroke_data = train_df[train_df['stroke'] == 0 ]\n",
    "stroke_data = train_df[train_df['stroke'] == 1 ]"
   ]
  },
  {
   "cell_type": "code",
   "execution_count": null,
   "id": "c51de1d6-0bc0-44a4-8380-98c97dd46dfb",
   "metadata": {},
   "outputs": [],
   "source": [
    "# Univariate Analysis\n",
    "\n",
    "stroke_count = train_df['stroke'].value_counts()"
   ]
  },
  {
   "cell_type": "code",
   "execution_count": null,
   "id": "041e8864-30e4-4cb5-9ad1-5a1ffd19bbdd",
   "metadata": {},
   "outputs": [],
   "source": [
    "stroke_count"
   ]
  },
  {
   "cell_type": "code",
   "execution_count": null,
   "id": "42e13c01-4189-459c-a38d-0316740cd434",
   "metadata": {},
   "outputs": [],
   "source": [
    "import plotly.express as px"
   ]
  },
  {
   "cell_type": "code",
   "execution_count": null,
   "id": "39a82ed5-948c-4ec1-b282-ab1ae73e4816",
   "metadata": {},
   "outputs": [],
   "source": [
    "fig = px.pie(\n",
    "    stroke_count, values=stroke_count.values, names=['No', 'Yes'], \n",
    "    title = 'Proportion of Stroke Cases', \n",
    "    color_discrete_sequence=plot_color)\n",
    "fig.update_layout(legend_title_text = 'Stroke Status', title_x=0.3, title_y = 0.95)\n",
    "fig.show('svg')"
   ]
  }
 ],
 "metadata": {
  "kernelspec": {
   "display_name": "Python [conda env:base] *",
   "language": "python",
   "name": "conda-base-py"
  },
  "language_info": {
   "codemirror_mode": {
    "name": "ipython",
    "version": 3
   },
   "file_extension": ".py",
   "mimetype": "text/x-python",
   "name": "python",
   "nbconvert_exporter": "python",
   "pygments_lexer": "ipython3",
   "version": "3.12.7"
  }
 },
 "nbformat": 4,
 "nbformat_minor": 5
}
